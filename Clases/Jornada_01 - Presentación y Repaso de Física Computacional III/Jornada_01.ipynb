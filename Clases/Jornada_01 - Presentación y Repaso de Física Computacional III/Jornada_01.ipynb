{
 "cells": [
  {
   "cell_type": "markdown",
   "metadata": {},
   "source": [
    "<div style=\"background-color: #d9ffd4; padding: 20px; border-radius: 10px;\">\n",
    "    <h1 style=\"color: #2F4F4F; font-family: Calibri, sans-serif; text-align: center;\">Jornada 1</h1>\n",
    "    <p style=\"color: #2F4F4F; font-family: Calibri, Courier, monospace; text-align: center; font-size: 24px;\">\n",
    "        Repaso: Solución Numérica de Ecuaciones Diferenciales Ordinarias (EDO)\n",
    "    </p>\n",
    "</div>"
   ]
  },
  {
   "cell_type": "markdown",
   "metadata": {},
   "source": [
    "### **Ecuaciones Diferenciales: Repaso y Preparación para Segundo Orden**\n",
    "\n",
    "Una ecuación diferencial es una relación que involucra una función desconocida y sus derivadas. En este contexto, la incógnita no es un valor numérico sino una **función** $ y(t) $ que debe satisfacer una igualdad diferencial.\n",
    "\n",
    "Consideremos el siguiente ejemplo:\n",
    "\n",
    "$$\n",
    " y'(t) = y^2(t) e^t\n",
    "$$\n",
    "\n",
    "La incógnita es $ y(t) $, y la ecuación involucra su derivada primera. Resolverla implica determinar la familia de funciones que cumplen esta relación.\n",
    "\n",
    "La solución general es:\n",
    "\n",
    "$$\n",
    "y(t) = \\frac{1}{c - e^t}, \\quad c = \\text{constante arbitraria}.\n",
    "$$\n",
    "\n",
    "#### **Constante de integración y problemas de valor inicial**\n",
    "\n",
    "La presencia de la constante $ c $ es consecuencia del proceso de integración durante la resolución. Como es sabido, la integración introduce una constante arbitraria porque existen infinitas funciones con la misma derivada. \n",
    "\n",
    "Para determinar una solución única, se requiere un **problema de valor inicial (PVI)**, en el que se especifica la condición de la función (y, si corresponde, de sus derivadas) en un punto dado.\n"
   ]
  },
  {
   "cell_type": "markdown",
   "metadata": {},
   "source": [
    "En este caso, encontramos una solución analítica para esta ecuación, sin embargo, esto no siempre es posible debido a la complejidad de algunas ecuaciones diferenciales, por esta razón, es que diversos autores han desarrollado métodos numéricos para encontrar soluciones aproximadas a dichas ecuaciones.\n",
    "\n",
    "Un primer algoritmo es el método de Euler."
   ]
  },
  {
   "cell_type": "markdown",
   "metadata": {},
   "source": [
    "<div style=\"background-color: #d4eeff; color: black; padding: 10px; border-radius: 5px;\">\n",
    "\n",
    "### **Método de Euler**\n",
    "\n",
    "Considere una ecuación diferencial de primer orden en su forma estándar:\n",
    "\n",
    "$$ \\frac{dy}{dt} = f(t, y) $$\n",
    "\n",
    "Para aproximar la solución, utilizamos el método *forward difference* para encontrar derivadas numéricas:\n",
    "\n",
    "$$ \\frac{dy}{dt} \\approx  \\frac{y_{n+1} - y_n}{h} $$\n",
    "\n",
    "De esta forma, tenemos:\n",
    "\n",
    "$$ \\frac{y_{n+1} - y_n}{h} = f(t_n, y_n) $$\n",
    "\n",
    "Despejando $ y_{n+1} $:\n",
    "\n",
    "\n",
    "$$ \\boxed{ y_{n+1} = y_n + h f(t_n, y_n) }$$\n",
    "\n",
    "Además:\n",
    "\n",
    "$$ \\boxed{ t_{n+1} = t_n + h }$$\n",
    "\n",
    "Este método nos permite calcular iterativamente la solución de una ecuación diferencial a partir de su condición inicial.\n",
    "\n",
    "</div>"
   ]
  },
  {
   "cell_type": "markdown",
   "metadata": {},
   "source": [
    "**Interpretación Gráfica:**\n",
    "\n",
    "<p align=\"center\">\n",
    "  <img src=\"solucion_analitca_vs_solucion_numerica.png\" width=\"40%\">\n",
    "</p>"
   ]
  },
  {
   "cell_type": "markdown",
   "metadata": {},
   "source": [
    "<div style=\"background-color: #FFF9AD; color: black; padding: 10px; border-radius: 5px;\">\n",
    "\n",
    "**Ejercicio:** Resolvamos el problema anterior ($y'(t) = y^2(t) e^t$) usando Euler y comparemos con la solución analítica, para $t \\in [0, 1]$. Use $h=0.1$ y la condición inicial $y(0) = 0.5$\n",
    "</div>"
   ]
  },
  {
   "cell_type": "code",
   "execution_count": null,
   "metadata": {},
   "outputs": [],
   "source": [
    "import matplotlib.pyplot as plt\n",
    "import numpy as np\n",
    "\n",
    "def f(t, y):\n",
    "    return ??\n",
    "\n",
    "def euler_method(f, t0, y0, h, tf):\n",
    "\n",
    "    ??\n",
    "\n",
    "    return t, y\n",
    "\n",
    "def y_exacta(t):\n",
    "    return 1 / (3 - np.exp(t))\n",
    "\n",
    "h = 0.1\n",
    "\n",
    "#\n"
   ]
  },
  {
   "cell_type": "markdown",
   "metadata": {},
   "source": [
    "El siguiente código ilustra el proceso iterativo que sigue el método de Euler para encontrar la solución:"
   ]
  },
  {
   "cell_type": "code",
   "execution_count": null,
   "metadata": {},
   "outputs": [],
   "source": [
    "for i in range(9):\n",
    "    print(f\"y{i+1} = y{i} + h * f(t{i}, y{i}) = {str(round(y[i], 2)).ljust(4, '0')} + {h} * f({str(round(t[i], 2)).ljust(4, '0')}, {str(round(y[i], 2)).ljust(4, '0')}) = {str(round(y[i+1], 2)).ljust(4, '0')}\")"
   ]
  },
  {
   "cell_type": "markdown",
   "metadata": {},
   "source": [
    "### **Ejercicio: Caída libre con resistencia del aire**\n",
    "\n",
    "Queremos resolver la ecuación diferencial que describe la caída libre de una partícula de masa $m$, considerando la fuerza de resistencia del aire:\n",
    "\n",
    "$$ F_r = -k v $$\n",
    "\n",
    "Partimos con la segunda ley de Newton:\n",
    "\n",
    "$$ \\sum F = ma \\quad \\Rightarrow \\quad F_g + F_r = m \\frac{dv}{dt} $$\n",
    "\n",
    "Entonces:\n",
    "\n",
    "$$ \\pm mg - kv = m \\frac{dv}{dt} $$\n",
    "\n",
    "Nuestro objetivo es encontrar la velocidad en función del tiempo, $v(t)$.\n",
    "\n",
    "- Si tomamos hacia abajo como positivo, usamos $+mg$.\n",
    "- Si tomamos hacia arriba como positivo, usamos $-mg$.\n",
    "- La fuerza de resistencia del aire siempre es negativa porque actúa en sentido opuesto al movimiento.\n",
    "\n",
    "\n",
    "<p align=\"center\">\n",
    "  <img src=\"caida_libre.png\" style=\"max-width: 25%; height: auto;\">\n",
    "</p>\n",
    "\n",
    "En el sistema de referencia del esquema (eje $y$ positivo hacia arriba), la ecuación queda:\n",
    "\n",
    "$$ -mg - kv = m \\frac{dv}{dt} $$\n",
    "\n",
    "Forma estándar:\n",
    "\n",
    "$$ \\frac{dv}{dt} = -g - \\frac{k}{m}v $$\n",
    "\n",
    "Con condición inicial:\n",
    "\n",
    "$$ v(0) = 0 $$\n",
    "\n",
    "La solución analítica es:\n",
    "\n",
    "$$ v(t) = \\frac{mg}{k} \\big( e^{-kt/m} - 1 \\big) $$\n",
    "\n",
    "---"
   ]
  },
  {
   "cell_type": "code",
   "execution_count": null,
   "metadata": {},
   "outputs": [],
   "source": [
    "### Resuelva este problema nuevamente con Euler\n",
    "\n"
   ]
  },
  {
   "cell_type": "markdown",
   "metadata": {},
   "source": [
    "### **Ejercicio: Caída libre con resistencia del aire (formulación para segundo orden)**\n",
    "\n",
    "Consideremos nuevamente el problema de la caída libre de una partícula de masa $m$, pero ahora lo plantearemos en el contexto de una **ecuación diferencial de segundo orden**, ya que queremos describir tanto la velocidad $v(t)$ como la posición $y(t)$.\n",
    "\n",
    "La segunda ley de Newton indica:\n",
    "\n",
    "$$ m \\frac{dv}{dt} = -mg - k v $$\n",
    "\n",
    "Dividimos por la masa para expresar la aceleración:\n",
    "\n",
    "$$ \\frac{dv}{dt} = -g - \\frac{k}{m} v $$\n",
    "\n",
    "Esta ecuación describe la evolución de la **velocidad**, pero para obtener también la **posición**, debemos recordar la relación cinemática:\n",
    "\n",
    "$$ \\frac{dy}{dt} = v $$\n",
    "\n",
    "Podemos entonces expresar el sistema como un conjunto de ecuaciones de primer orden:\n",
    "\n",
    "- Para la velocidad:  \n",
    "  $$ \\frac{dv}{dt} = f(t, y, v) ~~\\text{ donde, en este caso: }~~ f(t, y, v) = -g - \\frac{k}{m} v $$\n",
    "\n",
    "- Para la posición:  \n",
    "  $$ \\frac{dy}{dt} = v $$\n",
    "\n",
    "De esta forma, el problema original de segundo orden (en $y$) se transforma en un sistema de **dos ecuaciones de primer orden**, lo que facilita su resolución numérica.\n"
   ]
  },
  {
   "cell_type": "markdown",
   "metadata": {},
   "source": [
    "<div style=\"background-color: #d4eeff; color: black; padding: 10px; border-radius: 5px;\">\n",
    "\n",
    "### **Método de Euler para ecuaciones de segundo orden**\n",
    "\n",
    "Consideremos un sistema de ecuaciones diferenciales de primer orden equivalente a una ecuación de segundo orden:\n",
    "\n",
    "$$\n",
    "\\begin{cases}\n",
    "\\frac{dy}{dt} = v \\\\\n",
    "\\frac{dv}{dt} = f(t, y, v)\n",
    "\\end{cases}\n",
    "$$\n",
    "\n",
    "Para aproximar la solución, aplicamos el método *forward difference* a cada variable:\n",
    "\n",
    "$$\n",
    "\\frac{y_{n+1} - y_n}{h} \\approx v_n\n",
    "$$\n",
    "\n",
    "$$\n",
    "\\frac{v_{n+1} - v_n}{h} \\approx f(t_n, y_n, v_n)\n",
    "$$\n",
    "\n",
    "Despejando las actualizaciones:\n",
    "\n",
    "$$ \\boxed{y_{n+1} = y_n + h \\, v_n} $$\n",
    "\n",
    "$$ \\boxed{v_{n+1} = v_n + h \\, f(t_n, y_n, v_n)} $$\n",
    "\n",
    "Además:\n",
    "\n",
    "$$ \\boxed{t_{n+1} = t_n + h} $$\n",
    "\n",
    "De esta forma, podemos calcular iterativamente la posición $y$ y la velocidad $v$ de un objeto bajo fuerzas conocidas, a partir de las condiciones iniciales $y_0$ y $v_0$.\n",
    "\n",
    "</div>\n"
   ]
  },
  {
   "cell_type": "markdown",
   "metadata": {},
   "source": [
    "<div style=\"background-color: #FFF9AD; color: black; padding: 10px; border-radius: 5px;\">\n",
    "\n",
    "**Ejercicio:** Resolvamos la caída libre con resistencia del aire utilizando el **método de Euler para segundo orden**. Considere el sistema:\n",
    "\n",
    "$$\n",
    "\\begin{cases}\n",
    "\\frac{dy}{dt} = v \\\\\n",
    "\\frac{dv}{dt} = -g - \\frac{k}{m} v\n",
    "\\end{cases}\n",
    "$$\n",
    "\n",
    "para $t \\in [0, 5]$ s, con paso $h = 0.1$ s y condiciones iniciales:\n",
    "\n",
    "$$ y(0) = 0, \\quad v(0) = 0 $$\n",
    "\n",
    "Implemente el método de Euler para aproximar iterativamente $y(t)$ y $v(t)$, y compare los resultados con la solución analítica:\n",
    "\n",
    "$$ v(t) = \\frac{mg}{k} \\big( e^{-kt/m} - 1 \\big), \\quad y(t) = \\frac{m g}{k} \\left( t + \\frac{m}{k} ( e^{-kt/m} - 1 ) \\right) $$\n",
    "\n",
    "</div>\n"
   ]
  },
  {
   "cell_type": "code",
   "execution_count": null,
   "metadata": {},
   "outputs": [],
   "source": [
    "### Implemente el método de Euler segundo orden y resolva el problema anterior\n",
    "\n",
    "def euler_method_second_order():\n",
    "\n",
    "    return ??"
   ]
  },
  {
   "cell_type": "markdown",
   "metadata": {},
   "source": [
    "### **Uso de `fig` y `ax` en Matplotlib**\n",
    "\n",
    "Cuando usamos `fig, ax = plt.subplots()`, estamos creando una figura y uno o más ejes (subplots) para graficar. A continuación, detallamos el rol de cada una de las variables:\n",
    "\n",
    "- **`fig` (Figura):** Esta variable hace referencia a la figura completa, que es el contenedor global de todo el gráfico. A través de `fig`, podemos modificar propiedades de la figura, como el tamaño, el título global, y otras configuraciones que afectan a todo el conjunto de gráficos.\n",
    "\n",
    "- **`ax` (Ejes):** La variable `ax` es un array o una lista (dependiendo del número de subplots) donde cada elemento es un objeto `AxesSubplot`. Cada objeto `AxesSubplot` representa un gráfico individual dentro de la figura. A través de `ax`, podemos personalizar cada gráfico de manera independiente, como ajustar los títulos, etiquetas de los ejes, leyendas, entre otros elementos.\n",
    "\n",
    "En resumen, `fig` nos permite controlar aspectos generales de la figura completa, mientras que `ax` nos da control sobre cada gráfico específico dentro de la figura."
   ]
  },
  {
   "cell_type": "markdown",
   "metadata": {},
   "source": [
    "<div style=\"background-color: #FFF9AD; color: black; padding: 10px; border-radius: 5px;\">\n",
    "\n",
    "**Ejercicio:** Utilice `fig, ax = plt.subplots()` para expresar las gráficas de los resultados de la caída libre.\n",
    "</div>\n"
   ]
  },
  {
   "cell_type": "code",
   "execution_count": null,
   "metadata": {},
   "outputs": [],
   "source": [
    "### Uso de `fig` y `ax` en Matplotlib\n",
    "\n"
   ]
  },
  {
   "cell_type": "markdown",
   "metadata": {},
   "source": [
    "El método de Euler es una técnica sencilla y directa para aproximar soluciones de ecuaciones diferenciales. Sin embargo, su precisión es limitada, especialmente cuando el paso $h$ es relativamente grande o cuando la dinámica del sistema es compleja. \n",
    "\n",
    "Para obtener resultados más precisos y estables, se recomienda el uso de métodos numéricos más avanzados, como los **métodos de Runge-Kutta**, que permiten aproximar soluciones con mayor exactitud y confiabilidad.\n"
   ]
  },
  {
   "cell_type": "markdown",
   "metadata": {},
   "source": [
    "<div style=\"background-color: #d9ffd4; color: black; padding: 10px; border-radius: 5px;\">\n",
    "\n",
    "**Conclusión: ¿Qué aprendimos?**\n",
    "\n",
    "- Revisamos el concepto de ecuaciones diferenciales de primer y segundo orden, y cómo transformarlas en sistemas de ecuaciones de primer orden.\n",
    "- Aplicamos el **método de Euler** para aproximar soluciones numéricas de sistemas de segundo orden, como el caso de la caída libre con resistencia del aire.\n",
    "- Comparamos soluciones numéricas con soluciones analíticas para evaluar precisión y comportamiento del método.\n",
    "- Analizamos la utilidad y limitaciones del método de Euler, reconociendo la necesidad de métodos más avanzados como **Runge-Kutta** para obtener mayor exactitud en problemas más complejos.\n",
    "- Aprendimos a utilizar `fig` y `ax` en `matplotlib` para crear y personalizar gráficos individuales y múltiples subplots dentro de una misma figura, controlando tanto los elementos globales como los específicos de cada gráfico.\n",
    "\n",
    "**Próxima Jornada:** Método de Euler segundo orden para problemas en 2D\n",
    "\n",
    "</div>\n"
   ]
  },
  {
   "cell_type": "markdown",
   "metadata": {},
   "source": [
    "<div style=\"padding: 15px; border-top: 2px solid #2F4F4F; margin-top: 30px; background-color: var(--custom-bg-color); color: var(--custom-text-color);\">\n",
    "    <p style=\"font-family: Calibri, sans-serif; text-align: left; font-size: 16px;\">\n",
    "        Omar Fernández <br>\n",
    "        Profesor de Física Computacional IV para Astrofísica <br>\n",
    "        Ingeniero Físico <br>\n",
    "        <a href=\"mailto:omar.fernandez.o@usach.cl\" class=\"email-link\">omar.fernandez.o@usach.cl</a> <br>\n",
    "    </p>\n",
    "</div>\n",
    "\n",
    "<style>\n",
    ":root {\n",
    "    --custom-bg-color: #F8F8F8;\n",
    "    --custom-text-color: #2F4F4F;\n",
    "    --custom-link-color: blue;\n",
    "}\n",
    "\n",
    "@media (prefers-color-scheme: dark) {\n",
    "    :root {\n",
    "        --custom-bg-color: #444444;\n",
    "        --custom-text-color: #F8F8F8;\n",
    "        --custom-link-color: magenta;\n",
    "    }\n",
    "}\n",
    "\n",
    ".email-link {\n",
    "    color: var(--custom-link-color);\n",
    "}\n",
    "</style>"
   ]
  }
 ],
 "metadata": {
  "kernelspec": {
   "display_name": "Python 3",
   "language": "python",
   "name": "python3"
  },
  "language_info": {
   "codemirror_mode": {
    "name": "ipython",
    "version": 3
   },
   "file_extension": ".py",
   "mimetype": "text/x-python",
   "name": "python",
   "nbconvert_exporter": "python",
   "pygments_lexer": "ipython3",
   "version": "3.10.11"
  }
 },
 "nbformat": 4,
 "nbformat_minor": 2
}
